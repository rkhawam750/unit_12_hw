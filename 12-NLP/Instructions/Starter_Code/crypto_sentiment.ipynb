{
 "cells": [
  {
   "cell_type": "markdown",
   "metadata": {},
   "source": [
    "# Unit 12 - Tales from the Crypto\n",
    "\n",
    "---\n"
   ]
  },
  {
   "cell_type": "markdown",
   "metadata": {},
   "source": [
    "## 1. Sentiment Analysis\n",
    "\n",
    "Use the [newsapi](https://newsapi.org/) to pull the latest news articles for Bitcoin and Ethereum and create a DataFrame of sentiment scores for each coin.\n",
    "\n",
    "Use descriptive statistics to answer the following questions:\n",
    "1. Which coin had the highest mean positive score?\n",
    "2. Which coin had the highest negative score?\n",
    "3. Which coin had the highest positive score?"
   ]
  },
  {
   "cell_type": "code",
   "execution_count": 148,
   "metadata": {},
   "outputs": [
    {
     "name": "stderr",
     "output_type": "stream",
     "text": [
      "[nltk_data] Downloading package vader_lexicon to\n",
      "[nltk_data]     C:\\Users\\loves\\AppData\\Roaming\\nltk_data...\n",
      "[nltk_data]   Package vader_lexicon is already up-to-date!\n"
     ]
    }
   ],
   "source": [
    "# Initial imports\n",
    "import os\n",
    "import pandas as pd\n",
    "from dotenv import load_dotenv\n",
    "import nltk as nltk\n",
    "nltk.download('vader_lexicon')\n",
    "from nltk.sentiment.vader import SentimentIntensityAnalyzer\n",
    "analyzer = SentimentIntensityAnalyzer()\n",
    "\n",
    "%matplotlib inline"
   ]
  },
  {
   "cell_type": "code",
   "execution_count": 149,
   "metadata": {},
   "outputs": [],
   "source": [
    "# Read your api key environment variable\n",
    "load_dotenv()\n",
    "api_key = os.getenv(\"news_api\")"
   ]
  },
  {
   "cell_type": "code",
   "execution_count": 150,
   "metadata": {},
   "outputs": [],
   "source": [
    "# Create a newsapi client\n",
    "from newsapi import NewsApiClient"
   ]
  },
  {
   "cell_type": "code",
   "execution_count": 151,
   "metadata": {},
   "outputs": [
    {
     "data": {
      "text/plain": [
       "'435e0fc5b4be4129a25ccc10e4bd9287'"
      ]
     },
     "execution_count": 151,
     "metadata": {},
     "output_type": "execute_result"
    }
   ],
   "source": [
    "newsapi = NewsApiClient(api_key=api_key)\n",
    "\n",
    "api_key"
   ]
  },
  {
   "cell_type": "code",
   "execution_count": 155,
   "metadata": {},
   "outputs": [
    {
     "data": {
      "text/plain": [
       "{'status': 'ok',\n",
       " 'totalResults': 600,\n",
       " 'articles': [{'source': {'id': None, 'name': 'Quartz India'},\n",
       "   'author': 'Faustine Ngila',\n",
       "   'title': 'Kenya’s energy company is offering geothermal power to bitcoin miners',\n",
       "   'description': \"The move gives bitcoin miners access to green energy, a critical step in addressing the escalating challenge of crypto mining's carbon emissions.\",\n",
       "   'url': 'https://qz.com/africa/2172437/kengen-is-offering-geothermal-power-to-bitcoin-miners/',\n",
       "   'urlToImage': 'https://cms.qz.com/wp-content/uploads/2022/06/2014-10-10T120000Z_215908819_GM1EAAB050E01_RTRMADP_3_KENYA-ENERGY-e1654112779592.jpg?quality=75&strip=all&w=1200&h=630&crop=1',\n",
       "   'publishedAt': '2022-06-02T14:59:35Z',\n",
       "   'content': 'Kenyas energy production company KenGen wants to offer bitcoin mining companies its surplus geothermal power to help them meet their energy needs.\\r\\nKenGen, which generates most of its power from rene… [+2062 chars]'},\n",
       "  {'source': {'id': None, 'name': 'Motley Fool'},\n",
       "   'author': 'newsfeedback@fool.com (Bram Berkowitz)',\n",
       "   'title': 'Why Bitcoin, Coinbase, and Silvergate Capital Are Falling Today',\n",
       "   'description': 'Bitcoin and other crypto stocks took a breather today.',\n",
       "   'url': 'https://www.fool.com/investing/2022/06/01/why-bitcoin-coinbase-and-silvergate-capital-are-fa/',\n",
       "   'urlToImage': 'https://g.foolcdn.com/editorial/images/682894/generic-downward-stock-move-getty.jpg',\n",
       "   'publishedAt': '2022-06-01T17:35:23Z',\n",
       "   'content': 'What happened\\r\\nCryptocurrencies and crypto-related stocks took a breather today after rallying over the last several days, and as the market continued to have concerns about the future of the economy… [+3325 chars]'},\n",
       "  {'source': {'id': None, 'name': 'Motley Fool'},\n",
       "   'author': 'newsfeedback@fool.com (Keegan Francis)',\n",
       "   'title': 'Why Bitcoin and Ethereum Are Different Investments',\n",
       "   'description': \"Rather than competing with one another for market share, Bitcoin and Ethereum complement each other's growth.\",\n",
       "   'url': 'https://www.fool.com/cryptocurrency/2022/06/01/why-bitcoin-and-ethereum-are-different-investments/',\n",
       "   'urlToImage': 'https://g.foolcdn.com/editorial/images/681749/bitcoin-defi.jpeg',\n",
       "   'publishedAt': '2022-06-01T14:45:00Z',\n",
       "   'content': 'Which is a better investment? Bitcoin(BTC -1.64%) or Ethereum(ETH -2.82%)? The truth is that these two cryptocurrencies are fundamentally different. They perform different functions and have differen… [+3696 chars]'},\n",
       "  {'source': {'id': None, 'name': 'Motley Fool'},\n",
       "   'author': 'newsfeedback@fool.com (Will Ebiefung)',\n",
       "   'title': '2 Top Cryptocurrencies to Buy and Hold for Decades',\n",
       "   'description': 'Bitcoin and Ethereum trade at attractive discounts to their all-time highs.',\n",
       "   'url': 'https://www.fool.com/investing/2022/06/02/2-top-cryptocurrencies-to-buy-and-hold-for-decades/',\n",
       "   'urlToImage': 'https://g.foolcdn.com/editorial/images/682910/gettyimages-904127288.jpg',\n",
       "   'publishedAt': '2022-06-02T15:47:51Z',\n",
       "   'content': \"Bear markets aren't fun. But despite the near-term pain, these challenging market conditions create an opportunity for investors to acquire industry-leading assets at a discount to their previous hig… [+3031 chars]\"},\n",
       "  {'source': {'id': None, 'name': 'Small Business Trends'},\n",
       "   'author': 'Samson Haileyesus',\n",
       "   'title': 'How to Make Money with Cryptocurrency',\n",
       "   'description': 'Beyond purchasing them, cryptocurrencies make you money in multiple ways. Here are some of the ways how to make money with cryptocurrency.',\n",
       "   'url': 'https://smallbiztrends.com/2022/06/how-to-make-money-with-cryptocurrency.html',\n",
       "   'urlToImage': 'https://media.smallbiztrends.com/2022/05/how-to-make-money-with-cryptocurrency.png',\n",
       "   'publishedAt': '2022-06-01T13:00:44Z',\n",
       "   'content': 'Cryptocurrency is all the rage today with entrepreneurs dabbling into it as a full-time gig or a side hustle. Thanks to the incredible growth of Bitcoin and other cryptocurrencies, they continue to r… [+8900 chars]'},\n",
       "  {'source': {'id': None, 'name': 'Motley Fool'},\n",
       "   'author': 'newsfeedback@fool.com (Travis Hoium)',\n",
       "   'title': 'Why Bitcoin, Ethereum, Solana, and Dogecoin Dropped Today',\n",
       "   'description': \"There's not a lot of good news in the world of cryptocurrencies today.\",\n",
       "   'url': 'https://www.fool.com/investing/2022/06/02/why-bitcoin-ethereum-solana-and-dogecoin-dropped-t/',\n",
       "   'urlToImage': 'https://g.foolcdn.com/editorial/images/683121/bitcoin-falling-apart.jpg',\n",
       "   'publishedAt': '2022-06-02T16:44:02Z',\n",
       "   'content': 'What happened\\xa0\\r\\nThe values of cryptocurrencies are dropping on Thursday as the industry continues to go through some major growing pains. As values drop, companies start to lay off workers, which cut… [+2489 chars]'},\n",
       "  {'source': {'id': None, 'name': 'Yahoo Entertainment'},\n",
       "   'author': 'Eliza Gkritsi, Aoyon Ashraf',\n",
       "   'title': 'Bitcoin Miners Are Selling Off Their BTC Holdings to Cope With Market Headwinds',\n",
       "   'description': 'As the price of bitcoin falls, miners are cornered into powering off or selling their bitcoin.',\n",
       "   'url': 'https://finance.yahoo.com/news/bitcoin-miners-selling-off-btc-172823205.html',\n",
       "   'urlToImage': 'https://s.yimg.com/uu/api/res/1.2/mL3gaNCQEcDFVkcS7WX9rQ--~B/aD02MDA7dz04MDA7YXBwaWQ9eXRhY2h5b24-/https://media.zenfs.com/en/coindesk_75/9b0890e264eb49134039373da645c4f1',\n",
       "   'publishedAt': '2022-06-01T17:28:23Z',\n",
       "   'content': \"Don't miss CoinDesk's Consensus 2022, the must-attend crypto &amp; blockchain festival experience of the year in Austin, TX this June 9-12.\\r\\nBitcoin miners are selling off their mined tokens as the t… [+2161 chars]\"},\n",
       "  {'source': {'id': None, 'name': 'MarketWatch'},\n",
       "   'author': 'Barbara Kollmeyer',\n",
       "   'title': 'Market Snapshot: U.S. stock futures tilt higher as bond yields and oil prices cool',\n",
       "   'description': 'Markets are pointing to a higher start ahead of economic updates including private-sector payrolls and weekly jobless claims.',\n",
       "   'url': 'https://www.marketwatch.com/story/u-s-stock-futures-tilt-higher-as-bond-yields-and-oil-prices-cool-11654169077',\n",
       "   'urlToImage': 'https://images.mktw.net/im-556085/social',\n",
       "   'publishedAt': '2022-06-02T11:24:00Z',\n",
       "   'content': 'U.S. stock futures rose on Thursday, gaining traction as bond yields eased along with oil prices, with an OPEC+ meeting ahead. Investors will also get updates on weekly jobless claims and productivit… [+3436 chars]'},\n",
       "  {'source': {'id': None, 'name': 'The Indian Express'},\n",
       "   'author': 'Tech Desk',\n",
       "   'title': 'Cryptocurrency bill: All top countries where crypto is legal, illegal or restricted',\n",
       "   'description': 'Here we list all the top countries that made cryptos legal, illegal or unregulated (with some restrictions).',\n",
       "   'url': 'https://indianexpress.com/article/technology/crypto/cryptocurrency-bill-all-top-countries-where-cryptos-is-legal-illegal-or-restricted-7947092/',\n",
       "   'urlToImage': 'https://images.indianexpress.com/2021/10/bitcoin-reuters-1200.jpeg',\n",
       "   'publishedAt': '2022-06-01T09:54:09Z',\n",
       "   'content': 'Cryptocurrency has been a controversial topic ever since its existence. It has been widely criticised for its volatility, and its impact on the environment and is even referred to as a ‘Ponzi scheme’… [+5596 chars]'},\n",
       "  {'source': {'id': None, 'name': 'Forbes'},\n",
       "   'author': 'Billy Bambrough, Senior Contributor, \\n Billy Bambrough, Senior Contributor\\n https://www.forbes.com/sites/billybambrough/',\n",
       "   'title': '‘Brace Yourself’—Wall Street Legend Issues A Serious Fed Warning As A New Crypto Crash Hits Bitcoin, Ethereum, BNB, XRP, Solana And Cardano',\n",
       "   'description': 'JPMorgan chief executive Jamie Dimon has warned investors need to brace themselves for an economic \"hurricane\"—predicting market volatility as the Fed implements its policy of \"quantitative tightening\"...',\n",
       "   'url': 'https://www.forbes.com/sites/billybambrough/2022/06/02/brace-yourself-wall-street-legend-issues-a-serious-fed-warning-as-a-new-crypto-crash-hits-bitcoin-ethereum-bnb-xrp-solana-and-cardano/',\n",
       "   'urlToImage': 'https://imageio.forbes.com/specials-images/imageserve//61501f2134e6f1a1b6f6ae3e/0x0.jpg?format=jpg&width=1200',\n",
       "   'publishedAt': '2022-06-02T09:45:16Z',\n",
       "   'content': \"Bitcoin and cryptocurrencies have taken a turn for the worse in recent months as economic storm clouds gathereven as bitcoin price bulls continue to make bold predictions. \\r\\nSubscribenow to Forbes' C… [+3913 chars]\"},\n",
       "  {'source': {'id': None, 'name': 'Forbes'},\n",
       "   'author': 'Billy Bambrough, Senior Contributor, \\n Billy Bambrough, Senior Contributor\\n https://www.forbes.com/sites/billybambrough/',\n",
       "   'title': 'Report Reveals Game-Changing White House Crypto Plans That Could Have A Serious Bitcoin And Ethereum Price Impact',\n",
       "   'description': \"The Biden administration is working on a set of policy recommendations targetting bitcoin and crypto's sky-high energy consumption and carbon footprint, according to a report.\",\n",
       "   'url': 'https://www.forbes.com/sites/billybambrough/2022/06/02/report-reveals-game-changing-white-house-crypto-plans-that-could-have-a-serious-bitcoin-and-ethereum-price-impact/',\n",
       "   'urlToImage': 'https://imageio.forbes.com/specials-images/imageserve//629917778470c359934fcbbd/0x0.jpg?format=jpg&width=1200',\n",
       "   'publishedAt': '2022-06-02T22:45:00Z',\n",
       "   'content': \"The Biden administration is working on a set of policy recommendations targetting bitcoin and crypto's sky-high energy consumption and carbon footprint, according to a report.\\r\\nSubscribenow to Forbes… [+4184 chars]\"},\n",
       "  {'source': {'id': None, 'name': 'Forbes'},\n",
       "   'author': 'Rufas Kamau, Senior Contributor, \\n Rufas Kamau, Senior Contributor\\n https://www.forbes.com/sites/rufaskamau/',\n",
       "   'title': 'People Misunderstand Cash Deposit In Banking And Ignore Bitcoin',\n",
       "   'description': 'A cash deposit in a bank is virtually an unsecured loan to the bank, with no assurance that your money is safe and easily accessible.',\n",
       "   'url': 'https://www.forbes.com/sites/rufaskamau/2022/06/01/people-misunderstand-cash-deposit-in-banking-and-ignore-bitcoin/',\n",
       "   'urlToImage': 'https://imageio.forbes.com/specials-images/imageserve//62977e0f9c64acd5c4a5f667/0x0.jpg?format=jpg&crop=1906,1072,x0,y0,safe&width=1200',\n",
       "   'publishedAt': '2022-06-01T16:24:11Z',\n",
       "   'content': 'A cash deposit in a bank is virtually an unsecured loan to the bank, with no assurance that your money is safe and easily accessible. To make it worse, the bank determines the terms and conditions fo… [+5985 chars]'},\n",
       "  {'source': {'id': None, 'name': 'Bitcoin Magazine'},\n",
       "   'author': 'Dr. Chiente Hsu',\n",
       "   'title': 'Why Bitcoin Does Not Need DeFi, But DeFi Needs Bitcoin',\n",
       "   'description': 'Bitcoin is the most secure network in human history. Without the security and immutability unique to Bitcoin, DeFi will never achieve mass adoption.',\n",
       "   'url': 'https://bitcoinmagazine.com/markets/bitcoin-does-not-need-defi-but-defi-needs-bitcoin',\n",
       "   'urlToImage': 'https://bitcoinmagazine.com/.image/t_share/MTg4MjMyNTkwNzAzMDExNjI2/bitcoin-not-crypto-nfts-web3-or-defi.png',\n",
       "   'publishedAt': '2022-06-01T20:30:00Z',\n",
       "   'content': 'Dr. Chiente Hsu is CEO and cofounder of ALEX (Automated Liquidity Exchange), the first complete DeFi exchange on Bitcoin.\\r\\nBitcoin is the only way to get truly decentralized finance (DeFi). DeFi hasn… [+7741 chars]'},\n",
       "  {'source': {'id': None, 'name': 'Bitcoin Magazine'},\n",
       "   'author': 'Aleksandar Svetski',\n",
       "   'title': 'Bitcoin, Personality And Development Part Three: Bitcoin Truth And Speech',\n",
       "   'description': 'Bitcoin returns the world to a state of truth, which will have incredible ramifications on the feedback mechanisms we exist under.',\n",
       "   'url': 'https://bitcoinmagazine.com/culture/bitcoin-jordan-peterson-truth-and-speech',\n",
       "   'urlToImage': 'https://bitcoinmagazine.com/.image/t_share/MTg3NjI3MzI0ODUyNzQyMDMx/lighthouse.png',\n",
       "   'publishedAt': '2022-06-02T21:30:00Z',\n",
       "   'content': 'This is an opinion editorial by Aleks Svetski, author of “The UnCommunist Manifesto,” founder of The Bitcoin Times and Host of the “Svetski Wake Up Podcast.”\\r\\nPart 3, Chapter 4 of the JBP series.\\r\\nTy… [+10751 chars]'},\n",
       "  {'source': {'id': None, 'name': 'Bitcoin Magazine'},\n",
       "   'author': 'Aleksandar Svetski',\n",
       "   'title': 'Bitcoin And The Great Filter',\n",
       "   'description': 'Bitcoin doesn\\'t just \"break all your models.\" Bitcoin breaks all cycles.',\n",
       "   'url': 'https://bitcoinmagazine.com/culture/bitcoin-and-the-great-filter',\n",
       "   'urlToImage': 'https://bitcoinmagazine.com/.image/t_share/MTg5OTIwMTc3MDM3NTE4NTkw/bitcoin-great-filter-image001.jpg',\n",
       "   'publishedAt': '2022-06-02T19:50:46Z',\n",
       "   'content': 'This article originally appeared in Bitcoin Magazine\\'s \"Moon Issue.\" To get a copy, visit our store.\\r\\nEnergy money is the catalyst and tip of the spear for an intelligent sentient species’ transition… [+13042 chars]'},\n",
       "  {'source': {'id': None, 'name': 'CoinDesk'},\n",
       "   'author': 'Aoyon Ashraf',\n",
       "   'title': 'Riot Blockchain Sells More Bitcoin, Trims Hashrate Guidance',\n",
       "   'description': 'It’s the miner’s third consecutive month of bitcoin sales.',\n",
       "   'url': 'https://www.coindesk.com/business/2022/06/02/riot-blockchain-sells-more-bitcoin-trims-hashrate-guidance/',\n",
       "   'urlToImage': 'https://www.coindesk.com/resizer/P9dUQapdzNSZQfxme-xSnK1Xjh4=/1200x628/center/middle/cloudfront-us-east-1.images.arcpublishing.com/coindesk/YQ5ZL6KEPFEEXP2CDFNUQDXAXE.jpg',\n",
       "   'publishedAt': '2022-06-02T21:56:04Z',\n",
       "   'content': 'Please note that ourprivacy policy,terms of use,cookies, anddo not sell my personal informationhas been updated.\\r\\nThe leader in news and information on cryptocurrency, digital assets and the future o… [+540 chars]'},\n",
       "  {'source': {'id': None, 'name': 'PC Gamer'},\n",
       "   'author': 'Katie Wickens',\n",
       "   'title': 'Crypto-hackers are holding the Costa Rican healthcare system to ransom for $5B in bitcoin',\n",
       "   'description': \"'To decrypt your systems you have to pay $5,000,000 in bitcoin,' the group is reported to have as its demands.\",\n",
       "   'url': 'https://www.pcgamer.com/crypto-hackers-are-holding-the-costa-rican-healthcare-system-to-ransom-for-dollar5b-in-bitcoin/',\n",
       "   'urlToImage': 'https://cdn.mos.cms.futurecdn.net/vhA2mcpw2ViN9Rux62qwq8-1200-80.jpg',\n",
       "   'publishedAt': '2022-06-01T12:15:53Z',\n",
       "   'content': 'Tuesday, the Costa Rican healthcare system became the target of hackers known as \\'Hive\\' who, after encrypting the Social Security agency\\'s servers have demanded that it pays \"$5,000,000 in bitcoin\" t… [+2559 chars]'},\n",
       "  {'source': {'id': None, 'name': 'Forbes'},\n",
       "   'author': 'Dan Runkevicius, Senior Contributor, \\n Dan Runkevicius, Senior Contributor\\n https://www.forbes.com/sites/danrunkevicius/',\n",
       "   'title': '‘Hurricane Is Coming Our Way’—JPMorgan Issues Stark Prediction As Price Of Bitcoin, Ethereum, BNB, XRP, Terra’s Luna, Solana, Cardano, Dogecoin Go Into Free Fall',\n",
       "   'description': 'That hurricane is right out there, down the road, coming our way,” JPMorgan warns investors. Meanwhile, the price of bitcoin, ethereum, BNB, XRP, luna, solana, cardano, dogecoin in free fall.',\n",
       "   'url': 'https://www.forbes.com/sites/danrunkevicius/2022/06/02/hurricane-is-coming-our-way-jpmorgan-issues-stark-prediction-as-price-of-bitcoin-ethereum-bnb-xrp-terras-luna-solana-cardano-dogecoin-go-into-free-fall/',\n",
       "   'urlToImage': 'https://imageio.forbes.com/specials-images/imageserve//6298a13a199a2a3fccf8de3b/0x0.jpg?format=jpg&width=1200',\n",
       "   'publishedAt': '2022-06-02T11:39:31Z',\n",
       "   'content': 'After a faint glimmer of hope, the crypto market turns red again.\\r\\nThe price of bitcoin sank 5.5% in the past 24 hours. Ether \\r\\n ETH\\r\\neums price is down 5.8%, XRP \\r\\n XRP\\r\\n 4.7%, cardano 5.1%, dogecoi… [+3121 chars]'},\n",
       "  {'source': {'id': None, 'name': 'Bitcoin Magazine'},\n",
       "   'author': 'Bitcoin Magazine',\n",
       "   'title': 'More NFL Players Are Taking Their Salaries In Bitcoin',\n",
       "   'description': 'Defensive end for the San Francisco 49ers is taking the entirety of his salary in bitcoin. He joins Bitcoin Magazine Twitter spaces to discuss.',\n",
       "   'url': 'https://bitcoinmagazine.com/culture/nfl-players-take-their-salaries-in-bitcoin',\n",
       "   'urlToImage': 'https://bitcoinmagazine.com/.image/t_share/MTgzMjM5NTgzMDQyMjQ5NzY2/img_6226.png',\n",
       "   'publishedAt': '2022-06-03T00:00:00Z',\n",
       "   'content': 'This is a recording of a recent Twitter Spaces conversation about NFL player, Alex Barrett, taking 100% of his salary in bitcoin.\\r\\nListen To This Twitter Spaces:\\r\\n[0:06] Bitwage: Can I get things sta… [+37106 chars]'},\n",
       "  {'source': {'id': None, 'name': 'Bitcoin Magazine'},\n",
       "   'author': 'Bitcoin Magazine',\n",
       "   'title': 'Quality Of Life Is Defined By Energy Use',\n",
       "   'description': 'Harry Sudock of Griid qualifies Bitcoin as a responsible use of energy and shares his perspective on the benefits of bitcoin mining for rural areas.',\n",
       "   'url': 'https://bitcoinmagazine.com/culture/quality-of-life-is-defined-by-energy-use',\n",
       "   'urlToImage': 'https://bitcoinmagazine.com/.image/t_share/MTg5MjQ5NTYwNTc1NDg1NzIw/20220428_btcfinal_bitcoin-and-nuclear---the-worlds-most-feared-technologies-can-actually-save-it---john-thompson.png',\n",
       "   'publishedAt': '2022-06-01T00:00:00Z',\n",
       "   'content': 'Watch This Episode On YouTube\\r\\nListen To The Episode:\\r\\nThis week on “Bitcoin Bottom Line,” cohosts Steven McClurg and C.J. Wilson met with Harry Sudock, vice president of strategy and management at G… [+2131 chars]'}]}"
      ]
     },
     "execution_count": 155,
     "metadata": {},
     "output_type": "execute_result"
    }
   ],
   "source": [
    "# Fetch the Bitcoin news articles\n",
    "btc_articles = newsapi.get_everything(\n",
    "    q = 'bitcoin',\n",
    "    language = 'en',\n",
    "    from_param = '2022-06-01',\n",
    "    to = '2022-06-02',\n",
    "    sort_by = 'relevancy',\n",
    "    page = 2\n",
    ")\n",
    "\n",
    "btc_articles"
   ]
  },
  {
   "cell_type": "code",
   "execution_count": 154,
   "metadata": {},
   "outputs": [
    {
     "ename": "TypeError",
     "evalue": "get_everything() missing 1 required positional argument: 'self'",
     "output_type": "error",
     "traceback": [
      "\u001b[1;31m---------------------------------------------------------------------------\u001b[0m",
      "\u001b[1;31mTypeError\u001b[0m                                 Traceback (most recent call last)",
      "\u001b[1;32m~\\AppData\\Local\\Temp\\ipykernel_2796\\3871000258.py\u001b[0m in \u001b[0;36m<module>\u001b[1;34m\u001b[0m\n\u001b[0;32m      3\u001b[0m     \u001b[0mq\u001b[0m \u001b[1;33m=\u001b[0m \u001b[1;34m'ethereum'\u001b[0m\u001b[1;33m,\u001b[0m\u001b[1;33m\u001b[0m\u001b[1;33m\u001b[0m\u001b[0m\n\u001b[0;32m      4\u001b[0m     \u001b[0mlanguage\u001b[0m \u001b[1;33m=\u001b[0m \u001b[1;34m'eng'\u001b[0m\u001b[1;33m,\u001b[0m\u001b[1;33m\u001b[0m\u001b[1;33m\u001b[0m\u001b[0m\n\u001b[1;32m----> 5\u001b[1;33m     \u001b[0msort_by\u001b[0m \u001b[1;33m=\u001b[0m \u001b[1;34m'relevancy'\u001b[0m\u001b[1;33m\u001b[0m\u001b[1;33m\u001b[0m\u001b[0m\n\u001b[0m\u001b[0;32m      6\u001b[0m )\n",
      "\u001b[1;31mTypeError\u001b[0m: get_everything() missing 1 required positional argument: 'self'"
     ]
    }
   ],
   "source": [
    "# Fetch the Ethereum news articles\n",
    "eth_articles = NewsApiClient.get_everything(\n",
    "    q = 'ethereum',\n",
    "    language = 'eng',\n",
    "    sort_by = 'relevancy'\n",
    ")"
   ]
  },
  {
   "cell_type": "code",
   "execution_count": 165,
   "metadata": {},
   "outputs": [],
   "source": [
    "# Create the Bitcoin sentiment scores DataFrame\n",
    "btc_df= pd.DataFrame(btc_articles[\"articles\"])"
   ]
  },
  {
   "cell_type": "code",
   "execution_count": null,
   "metadata": {},
   "outputs": [],
   "source": [
    "btc_df.to_pickle('btcnews.pickle')"
   ]
  },
  {
   "cell_type": "code",
   "execution_count": null,
   "metadata": {},
   "outputs": [],
   "source": [
    "# Create the Ethereum sentiment scores DataFrame\n",
    "sentiments = []\n",
    "\n",
    "for articles in eth_articles[\"articles\"]:\n",
    "    try:\n",
    "        text = articles[\"content\"]\n",
    "        results = analyzer.polarity_scores(text)\n",
    "        compound = results[\"compound\"]\n",
    "        pos = results[\"pos\"]\n",
    "        neu = results[\"neu\"]\n",
    "        neg = results[\"neg\"]\n",
    "\n",
    "        sentiments.append({\n",
    "            \"text\": text,\n",
    "            \"Compound\": compound,\n",
    "            \"Positive\": pos,\n",
    "            \"Negative\": neg,\n",
    "            \"Neutral\": neu,\n",
    "        })\n",
    "    except AttributeError:\n",
    "        pass\n",
    "    \n",
    "eth  = pd.DataFrame(sentiments)\n",
    "eth.head()"
   ]
  },
  {
   "cell_type": "code",
   "execution_count": 167,
   "metadata": {},
   "outputs": [
    {
     "data": {
      "text/html": [
       "<div>\n",
       "<style scoped>\n",
       "    .dataframe tbody tr th:only-of-type {\n",
       "        vertical-align: middle;\n",
       "    }\n",
       "\n",
       "    .dataframe tbody tr th {\n",
       "        vertical-align: top;\n",
       "    }\n",
       "\n",
       "    .dataframe thead th {\n",
       "        text-align: right;\n",
       "    }\n",
       "</style>\n",
       "<table border=\"1\" class=\"dataframe\">\n",
       "  <thead>\n",
       "    <tr style=\"text-align: right;\">\n",
       "      <th></th>\n",
       "      <th>source</th>\n",
       "      <th>author</th>\n",
       "      <th>title</th>\n",
       "      <th>description</th>\n",
       "      <th>url</th>\n",
       "      <th>urlToImage</th>\n",
       "      <th>publishedAt</th>\n",
       "      <th>content</th>\n",
       "      <th>btc_title_compound</th>\n",
       "    </tr>\n",
       "  </thead>\n",
       "  <tbody>\n",
       "    <tr>\n",
       "      <th>0</th>\n",
       "      <td>{'id': None, 'name': 'Quartz India'}</td>\n",
       "      <td>Faustine Ngila</td>\n",
       "      <td>Kenya’s energy company is offering geothermal ...</td>\n",
       "      <td>The move gives bitcoin miners access to green ...</td>\n",
       "      <td>https://qz.com/africa/2172437/kengen-is-offeri...</td>\n",
       "      <td>https://cms.qz.com/wp-content/uploads/2022/06/...</td>\n",
       "      <td>2022-06-02T14:59:35Z</td>\n",
       "      <td>Kenyas energy production company KenGen wants ...</td>\n",
       "      <td>0.2732</td>\n",
       "    </tr>\n",
       "    <tr>\n",
       "      <th>1</th>\n",
       "      <td>{'id': None, 'name': 'Motley Fool'}</td>\n",
       "      <td>newsfeedback@fool.com (Bram Berkowitz)</td>\n",
       "      <td>Why Bitcoin, Coinbase, and Silvergate Capital ...</td>\n",
       "      <td>Bitcoin and other crypto stocks took a breathe...</td>\n",
       "      <td>https://www.fool.com/investing/2022/06/01/why-...</td>\n",
       "      <td>https://g.foolcdn.com/editorial/images/682894/...</td>\n",
       "      <td>2022-06-01T17:35:23Z</td>\n",
       "      <td>What happened\\r\\nCryptocurrencies and crypto-r...</td>\n",
       "      <td>-0.1531</td>\n",
       "    </tr>\n",
       "    <tr>\n",
       "      <th>2</th>\n",
       "      <td>{'id': None, 'name': 'Motley Fool'}</td>\n",
       "      <td>newsfeedback@fool.com (Keegan Francis)</td>\n",
       "      <td>Why Bitcoin and Ethereum Are Different Investm...</td>\n",
       "      <td>Rather than competing with one another for mar...</td>\n",
       "      <td>https://www.fool.com/cryptocurrency/2022/06/01...</td>\n",
       "      <td>https://g.foolcdn.com/editorial/images/681749/...</td>\n",
       "      <td>2022-06-01T14:45:00Z</td>\n",
       "      <td>Which is a better investment? Bitcoin(BTC -1.6...</td>\n",
       "      <td>0.0000</td>\n",
       "    </tr>\n",
       "    <tr>\n",
       "      <th>3</th>\n",
       "      <td>{'id': None, 'name': 'Motley Fool'}</td>\n",
       "      <td>newsfeedback@fool.com (Will Ebiefung)</td>\n",
       "      <td>2 Top Cryptocurrencies to Buy and Hold for Dec...</td>\n",
       "      <td>Bitcoin and Ethereum trade at attractive disco...</td>\n",
       "      <td>https://www.fool.com/investing/2022/06/02/2-to...</td>\n",
       "      <td>https://g.foolcdn.com/editorial/images/682910/...</td>\n",
       "      <td>2022-06-02T15:47:51Z</td>\n",
       "      <td>Bear markets aren't fun. But despite the near-...</td>\n",
       "      <td>0.2023</td>\n",
       "    </tr>\n",
       "    <tr>\n",
       "      <th>4</th>\n",
       "      <td>{'id': None, 'name': 'Small Business Trends'}</td>\n",
       "      <td>Samson Haileyesus</td>\n",
       "      <td>How to Make Money with Cryptocurrency</td>\n",
       "      <td>Beyond purchasing them, cryptocurrencies make ...</td>\n",
       "      <td>https://smallbiztrends.com/2022/06/how-to-make...</td>\n",
       "      <td>https://media.smallbiztrends.com/2022/05/how-t...</td>\n",
       "      <td>2022-06-01T13:00:44Z</td>\n",
       "      <td>Cryptocurrency is all the rage today with entr...</td>\n",
       "      <td>0.0000</td>\n",
       "    </tr>\n",
       "  </tbody>\n",
       "</table>\n",
       "</div>"
      ],
      "text/plain": [
       "                                          source  \\\n",
       "0           {'id': None, 'name': 'Quartz India'}   \n",
       "1            {'id': None, 'name': 'Motley Fool'}   \n",
       "2            {'id': None, 'name': 'Motley Fool'}   \n",
       "3            {'id': None, 'name': 'Motley Fool'}   \n",
       "4  {'id': None, 'name': 'Small Business Trends'}   \n",
       "\n",
       "                                   author  \\\n",
       "0                          Faustine Ngila   \n",
       "1  newsfeedback@fool.com (Bram Berkowitz)   \n",
       "2  newsfeedback@fool.com (Keegan Francis)   \n",
       "3   newsfeedback@fool.com (Will Ebiefung)   \n",
       "4                       Samson Haileyesus   \n",
       "\n",
       "                                               title  \\\n",
       "0  Kenya’s energy company is offering geothermal ...   \n",
       "1  Why Bitcoin, Coinbase, and Silvergate Capital ...   \n",
       "2  Why Bitcoin and Ethereum Are Different Investm...   \n",
       "3  2 Top Cryptocurrencies to Buy and Hold for Dec...   \n",
       "4              How to Make Money with Cryptocurrency   \n",
       "\n",
       "                                         description  \\\n",
       "0  The move gives bitcoin miners access to green ...   \n",
       "1  Bitcoin and other crypto stocks took a breathe...   \n",
       "2  Rather than competing with one another for mar...   \n",
       "3  Bitcoin and Ethereum trade at attractive disco...   \n",
       "4  Beyond purchasing them, cryptocurrencies make ...   \n",
       "\n",
       "                                                 url  \\\n",
       "0  https://qz.com/africa/2172437/kengen-is-offeri...   \n",
       "1  https://www.fool.com/investing/2022/06/01/why-...   \n",
       "2  https://www.fool.com/cryptocurrency/2022/06/01...   \n",
       "3  https://www.fool.com/investing/2022/06/02/2-to...   \n",
       "4  https://smallbiztrends.com/2022/06/how-to-make...   \n",
       "\n",
       "                                          urlToImage           publishedAt  \\\n",
       "0  https://cms.qz.com/wp-content/uploads/2022/06/...  2022-06-02T14:59:35Z   \n",
       "1  https://g.foolcdn.com/editorial/images/682894/...  2022-06-01T17:35:23Z   \n",
       "2  https://g.foolcdn.com/editorial/images/681749/...  2022-06-01T14:45:00Z   \n",
       "3  https://g.foolcdn.com/editorial/images/682910/...  2022-06-02T15:47:51Z   \n",
       "4  https://media.smallbiztrends.com/2022/05/how-t...  2022-06-01T13:00:44Z   \n",
       "\n",
       "                                             content  btc_title_compound  \n",
       "0  Kenyas energy production company KenGen wants ...              0.2732  \n",
       "1  What happened\\r\\nCryptocurrencies and crypto-r...             -0.1531  \n",
       "2  Which is a better investment? Bitcoin(BTC -1.6...              0.0000  \n",
       "3  Bear markets aren't fun. But despite the near-...              0.2023  \n",
       "4  Cryptocurrency is all the rage today with entr...              0.0000  "
      ]
     },
     "execution_count": 167,
     "metadata": {},
     "output_type": "execute_result"
    }
   ],
   "source": [
    "btc_df['btc_title_compound'] = btc_df['title'].apply(lambda x : analyzer.polarity_scores(x)['compound'])\n",
    "\n",
    "btc_df.head()"
   ]
  },
  {
   "cell_type": "code",
   "execution_count": null,
   "metadata": {},
   "outputs": [],
   "source": [
    "# Describe the Bitcoin Sentiment\n",
    "btc.describe()"
   ]
  },
  {
   "cell_type": "code",
   "execution_count": null,
   "metadata": {},
   "outputs": [],
   "source": [
    "# Describe the Ethereum Sentiment\n",
    "eth.describe()"
   ]
  },
  {
   "cell_type": "markdown",
   "metadata": {},
   "source": [
    "### Questions:\n",
    "\n",
    "Q: Which coin had the highest mean positive score?\n",
    "\n",
    "A: \n",
    "\n",
    "Q: Which coin had the highest compound score?\n",
    "\n",
    "A: \n",
    "\n",
    "Q. Which coin had the highest positive score?\n",
    "\n",
    "A: "
   ]
  },
  {
   "cell_type": "markdown",
   "metadata": {},
   "source": [
    "---"
   ]
  },
  {
   "cell_type": "markdown",
   "metadata": {},
   "source": [
    "## 2. Natural Language Processing\n",
    "---\n",
    "###   Tokenizer\n",
    "\n",
    "In this section, you will use NLTK and Python to tokenize the text for each coin. Be sure to:\n",
    "1. Lowercase each word.\n",
    "2. Remove Punctuation.\n",
    "3. Remove Stopwords."
   ]
  },
  {
   "cell_type": "code",
   "execution_count": null,
   "metadata": {},
   "outputs": [],
   "source": [
    "from nltk.tokenize import word_tokenize, sent_tokenize\n",
    "from nltk.corpus import stopwords\n",
    "from nltk.stem import WordNetLemmatizer, PorterStemmer\n",
    "from string import punctuation\n",
    "import re"
   ]
  },
  {
   "cell_type": "code",
   "execution_count": null,
   "metadata": {},
   "outputs": [],
   "source": [
    "# Instantiate the lemmatizer\n",
    "lemmatizer = WordNetLemmatizer\n",
    "\n",
    "# Create a list of stopwords\n",
    "\n",
    "\n",
    "# Expand the default stopwords list if necessary\n",
    "# YOUR CODE HERE!"
   ]
  },
  {
   "cell_type": "code",
   "execution_count": null,
   "metadata": {},
   "outputs": [],
   "source": [
    "# Complete the tokenizer function\n",
    "def tokenizer(text):\n",
    "    \"\"\"Tokenizes text.\"\"\"\n",
    "    \n",
    "    # Remove the punctuation from text\n",
    "\n",
    "   \n",
    "    # Create a tokenized list of the words\n",
    "    \n",
    "    \n",
    "    # Lemmatize words into root words\n",
    "\n",
    "   \n",
    "    # Convert the words to lowercase\n",
    "    \n",
    "    \n",
    "    # Remove the stop words\n",
    "    \n",
    "    \n",
    "    return tokens"
   ]
  },
  {
   "cell_type": "code",
   "execution_count": null,
   "metadata": {},
   "outputs": [],
   "source": [
    "# Create a new tokens column for Bitcoin\n",
    "# YOUR CODE HERE!"
   ]
  },
  {
   "cell_type": "code",
   "execution_count": null,
   "metadata": {},
   "outputs": [],
   "source": [
    "# Create a new tokens column for Ethereum\n",
    "# YOUR CODE HERE!"
   ]
  },
  {
   "cell_type": "markdown",
   "metadata": {},
   "source": [
    "---"
   ]
  },
  {
   "cell_type": "markdown",
   "metadata": {},
   "source": [
    "### NGrams and Frequency Analysis\n",
    "\n",
    "In this section you will look at the ngrams and word frequency for each coin. \n",
    "\n",
    "1. Use NLTK to produce the n-grams for N = 2. \n",
    "2. List the top 10 words for each coin. "
   ]
  },
  {
   "cell_type": "code",
   "execution_count": null,
   "metadata": {},
   "outputs": [],
   "source": [
    "from collections import Counter\n",
    "from nltk import ngrams"
   ]
  },
  {
   "cell_type": "code",
   "execution_count": null,
   "metadata": {},
   "outputs": [],
   "source": [
    "# Generate the Bitcoin N-grams where N=2\n",
    "# YOUR CODE HERE!"
   ]
  },
  {
   "cell_type": "code",
   "execution_count": null,
   "metadata": {},
   "outputs": [],
   "source": [
    "# Generate the Ethereum N-grams where N=2\n",
    "# YOUR CODE HERE!"
   ]
  },
  {
   "cell_type": "code",
   "execution_count": null,
   "metadata": {},
   "outputs": [],
   "source": [
    "# Function token_count generates the top 10 words for a given coin\n",
    "def token_count(tokens, N=3):\n",
    "    \"\"\"Returns the top N tokens from the frequency count\"\"\"\n",
    "    return Counter(tokens).most_common(N)"
   ]
  },
  {
   "cell_type": "code",
   "execution_count": null,
   "metadata": {},
   "outputs": [],
   "source": [
    "# Use token_count to get the top 10 words for Bitcoin\n",
    "# YOUR CODE HERE!"
   ]
  },
  {
   "cell_type": "code",
   "execution_count": null,
   "metadata": {},
   "outputs": [],
   "source": [
    "# Use token_count to get the top 10 words for Ethereum\n",
    "# YOUR CODE HERE!"
   ]
  },
  {
   "cell_type": "markdown",
   "metadata": {},
   "source": [
    "---"
   ]
  },
  {
   "cell_type": "markdown",
   "metadata": {},
   "source": [
    "### Word Clouds\n",
    "\n",
    "In this section, you will generate word clouds for each coin to summarize the news for each coin"
   ]
  },
  {
   "cell_type": "code",
   "execution_count": null,
   "metadata": {},
   "outputs": [],
   "source": [
    "from wordcloud import WordCloud\n",
    "import matplotlib.pyplot as plt\n",
    "plt.style.use('seaborn-whitegrid')\n",
    "import matplotlib as mpl\n",
    "mpl.rcParams['figure.figsize'] = [20.0, 10.0]"
   ]
  },
  {
   "cell_type": "code",
   "execution_count": null,
   "metadata": {},
   "outputs": [],
   "source": [
    "# Generate the Bitcoin word cloud\n",
    "# YOUR CODE HERE!"
   ]
  },
  {
   "cell_type": "code",
   "execution_count": null,
   "metadata": {},
   "outputs": [],
   "source": [
    "# Generate the Ethereum word cloud\n",
    "# YOUR CODE HERE!"
   ]
  },
  {
   "cell_type": "markdown",
   "metadata": {},
   "source": [
    "---\n",
    "## 3. Named Entity Recognition\n",
    "\n",
    "In this section, you will build a named entity recognition model for both Bitcoin and Ethereum, then visualize the tags using SpaCy."
   ]
  },
  {
   "cell_type": "code",
   "execution_count": null,
   "metadata": {},
   "outputs": [],
   "source": [
    "import spacy\n",
    "from spacy import displacy"
   ]
  },
  {
   "cell_type": "code",
   "execution_count": null,
   "metadata": {},
   "outputs": [],
   "source": [
    "# Download the language model for SpaCy\n",
    "# !python -m spacy download en_core_web_sm"
   ]
  },
  {
   "cell_type": "code",
   "execution_count": null,
   "metadata": {},
   "outputs": [],
   "source": [
    "# Load the spaCy model\n",
    "nlp = spacy.load('en_core_web_sm')"
   ]
  },
  {
   "cell_type": "markdown",
   "metadata": {},
   "source": [
    "---\n",
    "### Bitcoin NER"
   ]
  },
  {
   "cell_type": "code",
   "execution_count": null,
   "metadata": {},
   "outputs": [],
   "source": [
    "# Concatenate all of the Bitcoin text together\n",
    "# YOUR CODE HERE!"
   ]
  },
  {
   "cell_type": "code",
   "execution_count": null,
   "metadata": {},
   "outputs": [],
   "source": [
    "# Run the NER processor on all of the text\n",
    "# YOUR CODE HERE!\n",
    "\n",
    "# Add a title to the document\n",
    "# YOUR CODE HERE!"
   ]
  },
  {
   "cell_type": "code",
   "execution_count": null,
   "metadata": {},
   "outputs": [],
   "source": [
    "# Render the visualization\n",
    "# YOUR CODE HERE!"
   ]
  },
  {
   "cell_type": "code",
   "execution_count": null,
   "metadata": {},
   "outputs": [],
   "source": [
    "# List all Entities\n",
    "# YOUR CODE HERE!"
   ]
  },
  {
   "cell_type": "markdown",
   "metadata": {},
   "source": [
    "---"
   ]
  },
  {
   "cell_type": "markdown",
   "metadata": {},
   "source": [
    "### Ethereum NER"
   ]
  },
  {
   "cell_type": "code",
   "execution_count": null,
   "metadata": {},
   "outputs": [],
   "source": [
    "# Concatenate all of the Ethereum text together\n",
    "# YOUR CODE HERE!"
   ]
  },
  {
   "cell_type": "code",
   "execution_count": null,
   "metadata": {},
   "outputs": [],
   "source": [
    "# Run the NER processor on all of the text\n",
    "# YOUR CODE HERE!\n",
    "\n",
    "# Add a title to the document\n",
    "# YOUR CODE HERE!"
   ]
  },
  {
   "cell_type": "code",
   "execution_count": null,
   "metadata": {},
   "outputs": [],
   "source": [
    "# Render the visualization\n",
    "# YOUR CODE HERE!"
   ]
  },
  {
   "cell_type": "code",
   "execution_count": null,
   "metadata": {},
   "outputs": [],
   "source": [
    "# List all Entities\n",
    "# YOUR CODE HERE!"
   ]
  },
  {
   "cell_type": "markdown",
   "metadata": {},
   "source": [
    "---"
   ]
  }
 ],
 "metadata": {
  "file_extension": ".py",
  "interpreter": {
   "hash": "55e4577a2571253a7a5b3bc1c37997cc8a269baa367fe02337f2d54441305a34"
  },
  "kernelspec": {
   "display_name": "Python 3.7.11 ('dev')",
   "language": "python",
   "name": "python3"
  },
  "language_info": {
   "codemirror_mode": {
    "name": "ipython",
    "version": 3
   },
   "file_extension": ".py",
   "mimetype": "text/x-python",
   "name": "python",
   "nbconvert_exporter": "python",
   "pygments_lexer": "ipython3",
   "version": "3.7.11"
  },
  "mimetype": "text/x-python",
  "name": "python",
  "npconvert_exporter": "python",
  "pygments_lexer": "ipython3",
  "version": 3
 },
 "nbformat": 4,
 "nbformat_minor": 4
}
